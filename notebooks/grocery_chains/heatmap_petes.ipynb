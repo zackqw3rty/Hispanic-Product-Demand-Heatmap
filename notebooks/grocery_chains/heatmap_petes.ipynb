{
 "cells": [
  {
   "cell_type": "code",
   "execution_count": null,
   "id": "3ab1bb89-fef3-4129-ab8e-d9fb341d3e54",
   "metadata": {},
   "outputs": [],
   "source": [
    "\"\"\"import pandas as pd\n",
    "import plotly.express as px\n",
    "\n",
    "# Your original ZIP % data\n",
    "data = {\n",
    "    'zip_code': [60193, 60714, 60525, 60586, 60455, 60070, 60440, 60139, 60435, 60625, 60618, 60647,\n",
    "                 60459, 60133, 60634, 60073, 60641, 60402, 60085, 60160, 60639],\n",
    "    'hispanic_percentage': [10, 11, 14, 22, 23, 29, 32, 33, 33, 34, 38, 39,\n",
    "                            40, 42, 43, 45, 55, 64, 65, 75, 79]\n",
    "}\n",
    "\n",
    "zip_lat_lon = {\n",
    "    60193: (42.012, -88.096),\n",
    "    60714: (42.032, -87.819),\n",
    "    60525: (41.787, -87.867),\n",
    "    60586: (41.509, -88.226),\n",
    "    60455: (41.746, -87.816),\n",
    "    60070: (42.108, -87.928),\n",
    "    60440: (41.703, -88.080),\n",
    "    60139: (41.918, -88.064),\n",
    "    60435: (41.538, -88.127),\n",
    "    60625: (41.973, -87.702),\n",
    "    60618: (41.946, -87.702),\n",
    "    60647: (41.921, -87.701),\n",
    "    60459: (41.746, -87.732),\n",
    "    60133: (41.978, -88.146),\n",
    "    60634: (41.946, -87.800),\n",
    "    60073: (42.378, -88.072),\n",
    "    60641: (41.946, -87.748),\n",
    "    60402: (41.834, -87.793),\n",
    "    60085: (42.363, -87.857),\n",
    "    60160: (41.900, -87.859),\n",
    "    60639: (41.920, -87.765)\n",
    "}\n",
    "\n",
    "df = pd.DataFrame(data)\n",
    "df['latitude'] = df['zip_code'].map(lambda z: zip_lat_lon[z][0])\n",
    "df['longitude'] = df['zip_code'].map(lambda z: zip_lat_lon[z][1])\n",
    "\n",
    "center_lat = (df['latitude'].min() + df['latitude'].max()) / 2\n",
    "center_lon = (df['longitude'].min() + df['longitude'].max()) / 2\n",
    "\n",
    "fig = px.density_map(\n",
    "    df,\n",
    "    lat='latitude',\n",
    "    lon='longitude',\n",
    "    z='hispanic_percentage',\n",
    "    radius=20,\n",
    "    center={'lat': center_lat, 'lon': center_lon},\n",
    "    zoom=9,\n",
    "    map_style=\"carto-positron\",  # note: now called `map_style` not `mapbox_style`\n",
    "    title=\"Hispanic Population % by ZIP Code (Chicago Region + 5-Mile Buffer)\"\n",
    ")\n",
    "\n",
    "fig.show()"
   ]
  }
 ],
 "metadata": {
  "kernelspec": {
   "display_name": "Python 3 (ipykernel)",
   "language": "python",
   "name": "python3"
  },
  "language_info": {
   "codemirror_mode": {
    "name": "ipython",
    "version": 3
   },
   "file_extension": ".py",
   "mimetype": "text/x-python",
   "name": "python",
   "nbconvert_exporter": "python",
   "pygments_lexer": "ipython3",
   "version": "3.13.3"
  }
 },
 "nbformat": 4,
 "nbformat_minor": 5
}
