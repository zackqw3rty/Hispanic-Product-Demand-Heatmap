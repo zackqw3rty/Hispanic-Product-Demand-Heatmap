{
 "cells": [
  {
   "cell_type": "code",
   "execution_count": null,
   "id": "3ab1bb89-fef3-4129-ab8e-d9fb341d3e54",
   "metadata": {},
   "outputs": [],
   "source": [
    "import pandas as pd\n",
    "import plotly.express as px\n",
    "\n",
    "# Your original ZIP % data\n",
    "data = {\n",
    "    'zip_code': [],\n",
    "    'Hispanic Percentage': []\n",
    "}\n",
    "\n",
    "zip_lat_lon = {\n",
    "    60639: (41.920, -87.755)\n",
    "}\n",
    "\n",
    "df = pd.DataFrame(data)\n",
    "df['latitude'] = df['zip_code'].map(lambda z: zip_lat_lon[z][0])\n",
    "df['longitude'] = df['zip_code'].map(lambda z: zip_lat_lon[z][1])\n",
    "\n",
    "center_lat = (df['latitude'].min() + df['latitude'].max()) / 2\n",
    "center_lon = (df['longitude'].min() + df['longitude'].max()) / 2\n",
    "\n",
    "fig = px.density_map(\n",
    "    df,\n",
    "    lat='latitude',\n",
    "    lon='longitude',\n",
    "    z='Hispanic Percentage',\n",
    "    radius=20,\n",
    "    center={'lat': center_lat, 'lon': center_lon},\n",
    "    zoom=9,\n",
    "    map_style=\"carto-positron\",  # note: now called `map_style` not `mapbox_style`\n",
    "    title=\"Hispanic Population % by ZIP Code (Jewels-Osco)\"\n",
    ")\n",
    "\n",
    "fig.show()"
   ]
  }
 ],
 "metadata": {
  "kernelspec": {
   "display_name": "Python 3 (ipykernel)",
   "language": "python",
   "name": "python3"
  },
  "language_info": {
   "codemirror_mode": {
    "name": "ipython",
    "version": 3
   },
   "file_extension": ".py",
   "mimetype": "text/x-python",
   "name": "python",
   "nbconvert_exporter": "python",
   "pygments_lexer": "ipython3",
   "version": "3.13.3"
  }
 },
 "nbformat": 4,
 "nbformat_minor": 5
}
