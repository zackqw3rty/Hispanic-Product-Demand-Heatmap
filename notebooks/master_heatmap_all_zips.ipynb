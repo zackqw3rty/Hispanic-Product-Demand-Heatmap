{
 "cells": [
  {
   "cell_type": "code",
   "execution_count": null,
   "id": "3ab1bb89-fef3-4129-ab8e-d9fb341d3e54",
   "metadata": {},
   "outputs": [],
   "source": [
    "import pandas as pd\n",
    "import plotly.express as px\n",
    "\n",
    "# Your original ZIP % data\n",
    "data = {\n",
    "    'zip_code': [60193, 60714, 60525, 60586, 60455, 60070, 60440, 60139, 60435, 60625, 60618, 60647,\n",
    "                 60459, 60133, 60634, 60073, 60641, 60402, 60085, 60160, 60639],\n",
    "    'hispanic_percentage': [10, 11, 14, 22, 23, 29, 32, 33, 33, 34, 38, 39,\n",
    "                            40, 42, 43, 45, 55, 64, 65, 75, 79]\n",
    "}\n",
    "\n",
    "zip_lat_lon = {\n",
    "    60193: (42.009, -88.092),\n",
    "    60714: (42.029, -87.811),\n",
    "    60525: (41.778, -87.855),\n",
    "    60586: (41.568, -88.239),\n",
    "    60455: (41.737, -87.804),\n",
    "    60070: (42.103, -87.929),\n",
    "    60440: (41.698, -88.077),\n",
    "    60139: (41.919, -88.074),\n",
    "    60435: (41.546, -88.127),\n",
    "    60625: (41.972, -87.703),\n",
    "    60618: (41.946, -87.702),\n",
    "    60647: (41.921, -87.702),\n",
    "    60459: (41.745, -87.770),\n",
    "    60133: (41.976, -88.146),\n",
    "    60634: (41.946, -87.810),\n",
    "    60073: (42.342, -88.112),\n",
    "    60641: (41.946, -87.746),\n",
    "    60402: (41.828, -87.789),\n",
    "    60085: (42.352, -87.862),\n",
    "    60160: (41.904, -87.863),\n",
    "    60639: (41.920, -87.755)\n",
    "}\n",
    "\n",
    "df = pd.DataFrame(data)\n",
    "df['latitude'] = df['zip_code'].map(lambda z: zip_lat_lon[z][0])\n",
    "df['longitude'] = df['zip_code'].map(lambda z: zip_lat_lon[z][1])\n",
    "\n",
    "center_lat = (df['latitude'].min() + df['latitude'].max()) / 2\n",
    "center_lon = (df['longitude'].min() + df['longitude'].max()) / 2\n",
    "\n",
    "fig = px.density_map(\n",
    "    df,\n",
    "    lat='latitude',\n",
    "    lon='longitude',\n",
    "    z='hispanic_percentage',\n",
    "    radius=20,\n",
    "    center={'lat': center_lat, 'lon': center_lon},\n",
    "    zoom=9,\n",
    "    map_style=\"carto-positron\",  # note: now called `map_style` not `mapbox_style`\n",
    "    title=\"Hispanic Population % by ZIP Code (Chicago Region + 5-Mile Buffer)\"\n",
    ")\n",
    "\n",
    "fig.show()"
   ]
  }
 ],
 "metadata": {
  "kernelspec": {
   "display_name": "Python 3 (ipykernel)",
   "language": "python",
   "name": "python3"
  },
  "language_info": {
   "codemirror_mode": {
    "name": "ipython",
    "version": 3
   },
   "file_extension": ".py",
   "mimetype": "text/x-python",
   "name": "python",
   "nbconvert_exporter": "python",
   "pygments_lexer": "ipython3",
   "version": "3.13.3"
  }
 },
 "nbformat": 4,
 "nbformat_minor": 5
}
